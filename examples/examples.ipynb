{
 "cells": [
  {
   "cell_type": "markdown",
   "metadata": {
    "slideshow": {
     "slide_type": "slide"
    },
    "tags": []
   },
   "source": [
    "# Hello World"
   ]
  },
  {
   "cell_type": "code",
   "execution_count": 1,
   "metadata": {
    "tags": []
   },
   "outputs": [
    {
     "name": "stdout",
     "output_type": "stream",
     "text": [
      "Hello Matt\n"
     ]
    }
   ],
   "source": [
    "# Comments go here\n",
    "name = 'Matt'\n",
    "print('Hello ' + name)"
   ]
  },
  {
   "cell_type": "markdown",
   "metadata": {
    "slideshow": {
     "slide_type": "slide"
    },
    "tags": []
   },
   "source": [
    "# Input"
   ]
  },
  {
   "cell_type": "code",
   "execution_count": 2,
   "metadata": {
    "tags": []
   },
   "outputs": [
    {
     "name": "stdin",
     "output_type": "stream",
     "text": [
      "Enter your name:  Matt\n"
     ]
    },
    {
     "name": "stdout",
     "output_type": "stream",
     "text": [
      "Hello Matt\n"
     ]
    }
   ],
   "source": [
    "name = input('Enter your name: ')\n",
    "print('Hello ' + name)"
   ]
  },
  {
   "cell_type": "markdown",
   "metadata": {
    "slideshow": {
     "slide_type": "slide"
    },
    "tags": []
   },
   "source": [
    "# Truth, Logic, and Arithmetic"
   ]
  },
  {
   "cell_type": "markdown",
   "metadata": {
    "slideshow": {
     "slide_type": "subslide"
    },
    "tags": []
   },
   "source": [
    "## Boolean Logic"
   ]
  },
  {
   "cell_type": "code",
   "execution_count": 3,
   "metadata": {
    "tags": []
   },
   "outputs": [
    {
     "name": "stdout",
     "output_type": "stream",
     "text": [
      "True: True\n",
      "False: False\n",
      "not True: False\n",
      "not False: True\n",
      "False or False: False\n",
      "False or True: True\n"
     ]
    }
   ],
   "source": [
    "print(\"True:\", True)\n",
    "print(\"False:\", False)\n",
    "print(\"not True:\", not True)\n",
    "print(\"not False:\", not False)\n",
    "print(\"False or False:\", False or False)\n",
    "print(\"False or True:\", False or True)"
   ]
  },
  {
   "cell_type": "code",
   "execution_count": 4,
   "metadata": {
    "slideshow": {
     "slide_type": "subslide"
    },
    "tags": []
   },
   "outputs": [
    {
     "name": "stdout",
     "output_type": "stream",
     "text": [
      "True or False: True\n",
      "True or True: True\n",
      "False and False: False\n",
      "False and True: False\n",
      "True and False: False\n",
      "True and True True\n"
     ]
    }
   ],
   "source": [
    "print(\"True or False:\", True or False)\n",
    "print(\"True or True:\", True or True)\n",
    "print(\"False and False:\", False and False)\n",
    "print(\"False and True:\", False and True)\n",
    "print(\"True and False:\", True and False)\n",
    "print(\"True and True\", True and True)"
   ]
  },
  {
   "cell_type": "markdown",
   "metadata": {
    "slideshow": {
     "slide_type": "subslide"
    },
    "tags": []
   },
   "source": [
    "### Casting to bools"
   ]
  },
  {
   "cell_type": "code",
   "execution_count": 5,
   "metadata": {
    "tags": []
   },
   "outputs": [
    {
     "name": "stdout",
     "output_type": "stream",
     "text": [
      "None: False\n",
      "1: True\n",
      "17: True\n",
      "-4: True\n",
      "0: False\n",
      "0.0: False\n",
      "0.1: True\n",
      "[] (empty list): False\n",
      "[0,0,0] (filled list): True\n"
     ]
    }
   ],
   "source": [
    "print(\"None:\", bool(None))\n",
    "print(\"1:\", bool(1))\n",
    "print(\"17:\", bool(17))\n",
    "print(\"-4:\", bool(-4))\n",
    "print(\"0:\", bool(0))\n",
    "print(\"0.0:\", bool(0.0))\n",
    "print(\"0.1:\", bool(0.1))\n",
    "print(\"[] (empty list):\", bool([]))\n",
    "print(\"[0,0,0] (filled list):\", bool([0,0,0]))"
   ]
  },
  {
   "cell_type": "markdown",
   "metadata": {
    "slideshow": {
     "slide_type": "subslide"
    },
    "tags": []
   },
   "source": [
    "## Comparison"
   ]
  },
  {
   "cell_type": "code",
   "execution_count": 6,
   "metadata": {
    "tags": []
   },
   "outputs": [
    {
     "name": "stdout",
     "output_type": "stream",
     "text": [
      "1==2: False\n",
      "1==1: True\n",
      "1!=2: True\n",
      "1!=1: False\n",
      "1<2: True\n",
      "1<=2: True\n",
      "1<1: False\n",
      "1<=1: True\n"
     ]
    }
   ],
   "source": [
    "print(\"1==2:\", 1==2)\n",
    "print(\"1==1:\", 1==1)\n",
    "print(\"1!=2:\", 1!=2)\n",
    "print(\"1!=1:\", 1!=1)\n",
    "print(\"1<2:\", 1<2)\n",
    "print(\"1<=2:\", 1<=2)\n",
    "print(\"1<1:\", 1<1)\n",
    "print(\"1<=1:\", 1<=1)"
   ]
  },
  {
   "cell_type": "code",
   "execution_count": 7,
   "metadata": {
    "slideshow": {
     "slide_type": "subslide"
    },
    "tags": []
   },
   "outputs": [
    {
     "name": "stdout",
     "output_type": "stream",
     "text": [
      "1<0: False\n",
      "1<=0: False\n",
      "1>2: False\n",
      "1>=2: False\n",
      "1>1: False\n",
      "1>=1: True\n",
      "1>0: True\n",
      "1>=0: True\n"
     ]
    }
   ],
   "source": [
    "print(\"1<0:\", 1<0)\n",
    "print(\"1<=0:\", 1<=0)\n",
    "print(\"1>2:\", 1>2)\n",
    "print(\"1>=2:\", 1>=2)\n",
    "print(\"1>1:\", 1>1)\n",
    "print(\"1>=1:\", 1>=1)\n",
    "print(\"1>0:\", 1>0)\n",
    "print(\"1>=0:\", 1>=0)"
   ]
  },
  {
   "cell_type": "markdown",
   "metadata": {
    "slideshow": {
     "slide_type": "subslide"
    },
    "tags": []
   },
   "source": [
    "## Arithmetic"
   ]
  },
  {
   "cell_type": "code",
   "execution_count": 8,
   "metadata": {
    "tags": []
   },
   "outputs": [
    {
     "name": "stdout",
     "output_type": "stream",
     "text": [
      "1+2: 2\n",
      "1-2: -1\n",
      "5*2: 10\n",
      "4.5*3: 13.5\n",
      "2**3: 8\n",
      "9/2: 4.5\n",
      "9%2: 1\n",
      "9//2: 4\n"
     ]
    }
   ],
   "source": [
    "print(\"1+2:\", 1+1)\n",
    "print(\"1-2:\", 1-2)\n",
    "print(\"5*2:\", 5*2)\n",
    "print(\"4.5*3:\", 4.5*3)\n",
    "print(\"2**3:\",2**3)\n",
    "print(\"9/2:\", 9/2)\n",
    "print(\"9%2:\", 9%2)\n",
    "print(\"9//2:\", 9//2)"
   ]
  },
  {
   "cell_type": "markdown",
   "metadata": {
    "slideshow": {
     "slide_type": "slide"
    },
    "tags": []
   },
   "source": [
    "# Lists"
   ]
  },
  {
   "cell_type": "code",
   "execution_count": 9,
   "metadata": {
    "tags": []
   },
   "outputs": [
    {
     "name": "stdout",
     "output_type": "stream",
     "text": [
      "First expense: 23.1\n",
      "Last expense: 5.4\n",
      "Third earning: 2.33\n"
     ]
    }
   ],
   "source": [
    "# lists of numbers\n",
    "expenses = [23.10, 44,   56.1,  11.02,  5.40]\n",
    "earnings = [12.33, 81.00, 2.33, 33.22, 11.96]\n",
    "print('First expense:', expenses[0])\n",
    "print('Last expense:', expenses[-1])\n",
    "print('Third earning:', earnings[2])"
   ]
  },
  {
   "cell_type": "markdown",
   "metadata": {
    "slideshow": {
     "slide_type": "slide"
    },
    "tags": []
   },
   "source": [
    "# Control Flow"
   ]
  },
  {
   "cell_type": "markdown",
   "metadata": {
    "slideshow": {
     "slide_type": "subslide"
    },
    "tags": []
   },
   "source": [
    "## If statements"
   ]
  },
  {
   "cell_type": "code",
   "execution_count": 10,
   "metadata": {
    "tags": []
   },
   "outputs": [
    {
     "name": "stdin",
     "output_type": "stream",
     "text": [
      "Enter secret passcode:  12345\n"
     ]
    },
    {
     "name": "stdout",
     "output_type": "stream",
     "text": [
      "Welcome\n"
     ]
    }
   ],
   "source": [
    "passcode = input('Enter secret passcode: ')\n",
    "if passcode == \"12345\":\n",
    "  print('Welcome')\n",
    "elif passcode == \"12346\":\n",
    "  print(\"So close!\")\n",
    "elif passcode == \"12344\":\n",
    "  print(\"Almost!\")\n",
    "else:\n",
    "  print('Wrong code!')"
   ]
  },
  {
   "cell_type": "markdown",
   "metadata": {
    "slideshow": {
     "slide_type": "subslide"
    },
    "tags": []
   },
   "source": [
    "## While statements"
   ]
  },
  {
   "cell_type": "code",
   "execution_count": 11,
   "metadata": {
    "tags": []
   },
   "outputs": [
    {
     "name": "stdin",
     "output_type": "stream",
     "text": [
      "Enter secret passcode, or q to quit:  54321\n"
     ]
    },
    {
     "name": "stdout",
     "output_type": "stream",
     "text": [
      "Wrong code, try again!\n"
     ]
    },
    {
     "name": "stdin",
     "output_type": "stream",
     "text": [
      "Enter secret passcode, or q to quit:  12345\n"
     ]
    },
    {
     "name": "stdout",
     "output_type": "stream",
     "text": [
      "Welcome\n"
     ]
    }
   ],
   "source": [
    "# while statement\n",
    "code = input('Enter secret passcode, or q to quit: ')\n",
    "while code != \"12345\":\n",
    "  if code == 'q':\n",
    "    break\n",
    "  print('Wrong code, try again!')\n",
    "  code = input('Enter secret passcode, or q to quit: ')\n",
    "print('Welcome')"
   ]
  },
  {
   "cell_type": "markdown",
   "metadata": {
    "slideshow": {
     "slide_type": "subslide"
    },
    "tags": []
   },
   "source": [
    "## For statements"
   ]
  },
  {
   "cell_type": "code",
   "execution_count": 12,
   "metadata": {
    "tags": []
   },
   "outputs": [
    {
     "name": "stdout",
     "output_type": "stream",
     "text": [
      "Total expenses: 139.62\n",
      "Total earnings: 140.84\n",
      "                1.2199999999999989\n"
     ]
    }
   ],
   "source": [
    "expenses = [23.10, 44,   56.1,  11.02,  5.40]\n",
    "earnings = [12.33, 81.00, 2.33, 33.22, 11.96]\n",
    "total_earnings = 0\n",
    "total_expenses = 0\n",
    "for expense in expenses:\n",
    "  total_expenses+=expense\n",
    "for earning in earnings:\n",
    "  total_earnings+=earning\n",
    "print(\"Total expenses:\", total_expenses)\n",
    "print(\"Total earnings:\", total_earnings)\n",
    "print(\"               \", total_earnings-total_expenses)"
   ]
  },
  {
   "cell_type": "markdown",
   "metadata": {
    "slideshow": {
     "slide_type": "slide"
    },
    "tags": []
   },
   "source": [
    "# Functions"
   ]
  },
  {
   "cell_type": "markdown",
   "metadata": {
    "slideshow": {
     "slide_type": "subslide"
    },
    "tags": []
   },
   "source": [
    "## Some Builtin Functions"
   ]
  },
  {
   "cell_type": "code",
   "execution_count": 13,
   "metadata": {
    "tags": []
   },
   "outputs": [
    {
     "name": "stdout",
     "output_type": "stream",
     "text": [
      "Total: 1.2199999999999989\n",
      "Largest expense: 56.1\n",
      "Average expense: 27.924\n",
      "Smallest expense: 5.4\n",
      "Largest earning: 81.0\n",
      "Average earning: 28.168\n",
      "Smallest earning: 2.33\n"
     ]
    }
   ],
   "source": [
    "# builtins\n",
    "expenses = [23.10, 44,   56.1,  11.02,  5.40]\n",
    "earnings = [12.33, 81.00, 2.33, 33.22, 11.96]\n",
    "print('Total:', sum(earnings) - sum(expenses))\n",
    "print('Largest expense:', max(expenses))\n",
    "print('Average expense:', sum(expenses) / len(expenses))\n",
    "print('Smallest expense:', min(expenses))\n",
    "print('Largest earning:', max(earnings))\n",
    "print('Average earning:', sum(earnings) / len(earnings))\n",
    "print('Smallest earning:', min(earnings))\n",
    "# There's plenty of more useful builtins, this is just a few"
   ]
  },
  {
   "cell_type": "markdown",
   "metadata": {
    "slideshow": {
     "slide_type": "subslide"
    },
    "tags": []
   },
   "source": [
    "## Making your own function"
   ]
  },
  {
   "cell_type": "code",
   "execution_count": 14,
   "metadata": {
    "slideshow": {
     "slide_type": "fragment"
    },
    "tags": []
   },
   "outputs": [
    {
     "name": "stdin",
     "output_type": "stream",
     "text": [
      "Please enter your name:  Matt\n"
     ]
    },
    {
     "name": "stdout",
     "output_type": "stream",
     "text": [
      "Hello Matt\n"
     ]
    }
   ],
   "source": [
    "def say_hello(name):\n",
    "  print(\"Hello\", name)\n",
    "\n",
    "say_hello(input(\"Please enter your name: \"))"
   ]
  },
  {
   "cell_type": "code",
   "execution_count": 15,
   "metadata": {
    "slideshow": {
     "slide_type": "fragment"
    },
    "tags": []
   },
   "outputs": [
    {
     "name": "stdout",
     "output_type": "stream",
     "text": [
      "3628800\n"
     ]
    }
   ],
   "source": [
    "def say_hello(name):\n",
    "  print(\"Hello\", name)\n",
    "  \n",
    "def factorial(number):\n",
    "  # Example, 10! = 10*9*8*7*6*5*4*3*2*1\n",
    "  acc = 1\n",
    "  for i in range(1, number + 1):\n",
    "    acc *= i\n",
    "  return acc\n",
    "\n",
    "\n",
    "print(factorial(10))"
   ]
  },
  {
   "cell_type": "markdown",
   "metadata": {
    "slideshow": {
     "slide_type": "slide"
    },
    "tags": []
   },
   "source": [
    "# Imports"
   ]
  },
  {
   "cell_type": "code",
   "execution_count": 16,
   "metadata": {
    "tags": []
   },
   "outputs": [
    {
     "name": "stdout",
     "output_type": "stream",
     "text": [
      "Your lucky numbers are: [41, 38, 36, 11, 9, 74, 36, 54, 72, 74]\n"
     ]
    }
   ],
   "source": [
    "import random\n",
    "\n",
    "lucky_numbers = []\n",
    "for _ in range(10):  # do 10 times\n",
    "  lucky_numbers.append(random.randrange(100))\n",
    "print(\"Your lucky numbers are:\", lucky_numbers)"
   ]
  },
  {
   "cell_type": "markdown",
   "metadata": {
    "slideshow": {
     "slide_type": "slide"
    },
    "tags": []
   },
   "source": [
    "# File IO"
   ]
  },
  {
   "cell_type": "code",
   "execution_count": 17,
   "metadata": {
    "tags": []
   },
   "outputs": [
    {
     "name": "stdout",
     "output_type": "stream",
     "text": [
      "Alice\n",
      "Bob\n",
      "Charlie\n",
      "DianeWed Feb  8 10:18:26 2023\n",
      "Wed Feb  8 10:18:26 2023\n"
     ]
    }
   ],
   "source": [
    "import time\n",
    "with open(\"names.txt\", 'r') as names: # r is for readonly\n",
    "  for line in names.readlines():\n",
    "    print(line, end='') # Don't print newline, because there's already one in file\n",
    "\n",
    "with open('current_time.txt', 'w') as timefile: # w is for write\n",
    "  timefile.write(time.asctime()+'\\n')\n",
    "\n",
    "with open(\"current_time.txt\", 'a') as timefile: # a is for append\n",
    "  timefile.write(time.asctime()+'\\n')\n",
    "\n",
    "with open(\"current_time.txt\", 'r') as timefile: # r is for readonly\n",
    "  for line in timefile.readlines():\n",
    "    print(line, end='')"
   ]
  },
  {
   "cell_type": "markdown",
   "metadata": {
    "slideshow": {
     "slide_type": "notes"
    },
    "tags": []
   },
   "source": [
    "**NOTE**  \n",
    "There is an old method of:\n",
    "```python\n",
    "f = open('file.txt', 'r') \n",
    "string = f.read()\n",
    "f.close()\n",
    "```\n",
    "this is no longer recomended, the `with` syntax sould be used insteaed"
   ]
  },
  {
   "cell_type": "markdown",
   "metadata": {
    "slideshow": {
     "slide_type": "slide"
    },
    "tags": []
   },
   "source": [
    "# Exceptions"
   ]
  },
  {
   "cell_type": "code",
   "execution_count": 18,
   "metadata": {
    "tags": []
   },
   "outputs": [
    {
     "name": "stdout",
     "output_type": "stream",
     "text": [
      "A number\n",
      "54\n",
      "Value\n",
      "Ran cleanup\n"
     ]
    }
   ],
   "source": [
    "my_dict = {\"Key\": \"Value\", 44: 28, 54: \"A number\", \"A number\": 54}\n",
    "\n",
    "try:\n",
    "  print(my_dict[54])\n",
    "  print(my_dict[\"A number\"])\n",
    "  print(my_dict[\"Key\"])\n",
    "except KeyError as err:\n",
    "  print(\"Caught error:\", err)\n",
    "finally:\n",
    "  print(\"Ran cleanup\")"
   ]
  },
  {
   "cell_type": "code",
   "execution_count": 19,
   "metadata": {
    "slideshow": {
     "slide_type": "subslide"
    },
    "tags": []
   },
   "outputs": [
    {
     "name": "stdout",
     "output_type": "stream",
     "text": [
      "A number\n",
      "54\n",
      "Value\n",
      "Caught error: KeyError('some other key')\n",
      "Ran cleanup\n"
     ]
    }
   ],
   "source": [
    "try:\n",
    "  print(my_dict[54])\n",
    "  print(my_dict[\"A number\"])\n",
    "  print(my_dict[\"Key\"])\n",
    "  print(my_dict[\"some other key\"])\n",
    "except KeyError as err:\n",
    "  print(\"Caught error:\", repr(err))\n",
    "finally:\n",
    "  print(\"Ran cleanup\")"
   ]
  },
  {
   "cell_type": "markdown",
   "metadata": {
    "slideshow": {
     "slide_type": "slide"
    },
    "tags": []
   },
   "source": [
    "# Sets"
   ]
  },
  {
   "cell_type": "code",
   "execution_count": 20,
   "metadata": {
    "tags": []
   },
   "outputs": [
    {
     "name": "stdout",
     "output_type": "stream",
     "text": [
      "['red', 'red', 'green', 'blue', 'yellow', 'orange', 'blue', 'green']\n",
      "{'green', 'yellow', 'blue', 'red', 'orange'}\n"
     ]
    }
   ],
   "source": [
    "# the set type:\n",
    "colors_list = [\"red\", \"red\", \"green\", \"blue\", \"yellow\", \"orange\", \"blue\", \"green\"]\n",
    "colors_set = {\"red\", \"red\", \"green\", \"blue\", \"yellow\", \"orange\", \"blue\", \"green\"}\n",
    "print(colors_list)\n",
    "print(colors_set)"
   ]
  },
  {
   "cell_type": "markdown",
   "metadata": {
    "slideshow": {
     "slide_type": "slide"
    },
    "tags": []
   },
   "source": [
    "# Dictionaries"
   ]
  },
  {
   "cell_type": "code",
   "execution_count": 21,
   "metadata": {
    "tags": []
   },
   "outputs": [
    {
     "name": "stdout",
     "output_type": "stream",
     "text": [
      "Alice's number: 1112223333\n",
      "Bob's number: 3332221111\n",
      "Charlie's number: 1231231234\n"
     ]
    }
   ],
   "source": [
    "# Note that whether you use single quotes, double quotes, escapes, or no escapes doesn't matter\n",
    "phonebook = {'Alice': 1112223333, 'Bob': 3332221111}\n",
    "print(\"Alice's number:\", phonebook[\"Alice\"])\n",
    "print('Bob\\'s number:', phonebook[\"Bob\"])\n",
    "phonebook[\"Charlie\"] = 1231231234\n",
    "print(\"Charlie\\'s number:\", phonebook['Charlie'])"
   ]
  },
  {
   "cell_type": "markdown",
   "metadata": {
    "slideshow": {
     "slide_type": "subslide"
    },
    "tags": []
   },
   "source": [
    "## Nested dicts"
   ]
  },
  {
   "cell_type": "code",
   "execution_count": 22,
   "metadata": {
    "tags": []
   },
   "outputs": [],
   "source": [
    "people = {\n",
    "  \"Alice\": {\n",
    "    \"age\": 14,\n",
    "    \"occupation\": \"student\",\n",
    "    \"favorite color\": \"green\"\n",
    "  },\n",
    "  \"Bob\": {\n",
    "    \"age\": 36,\n",
    "    \"occupation\": \"builder\",\n",
    "    \"favorite color\": \"blue\" \n",
    "  },\n",
    "  \"Charlie\": {\n",
    "    \"age\": 11,\n",
    "    \"occupation\": \"student\",\n",
    "    \"favorite color\": \"red\"\n",
    "  },\n",
    "  \"Diane\": {\n",
    "    \"age\": 28,\n",
    "    \"occupation\": \"programmer\",\n",
    "    \"favorite color\": \"yellow\"\n",
    "  }\n",
    "}"
   ]
  },
  {
   "cell_type": "code",
   "execution_count": 23,
   "metadata": {
    "slideshow": {
     "slide_type": "subslide"
    },
    "tags": []
   },
   "outputs": [
    {
     "name": "stdin",
     "output_type": "stream",
     "text": [
      "Enter name:\n",
      " Bob\n",
      "Enter field (A)ge, (O)ccupation, favorite (C)olor:  o\n"
     ]
    },
    {
     "name": "stdout",
     "output_type": "stream",
     "text": [
      "builder\n"
     ]
    }
   ],
   "source": [
    "def get_info():\n",
    "  person = input(\"Enter name:\\n\")\n",
    "  if person in people.keys():\n",
    "    query = input(\"Enter field (A)ge, (O)ccupation, favorite (C)olor: \")\n",
    "    if query == 'a' or query == 'A':\n",
    "      return people[person][\"age\"]\n",
    "    elif query in \"oO\":\n",
    "      return people[person][\"occupation\"]\n",
    "    elif query.lower() == 'c':\n",
    "      return people[person][\"favorite color\"]\n",
    "    else:\n",
    "      print(\"unknown option\",query)\n",
    "  else:\n",
    "    print(f\"{person} not found!\")\n",
    "\n",
    "print(get_info())"
   ]
  },
  {
   "cell_type": "markdown",
   "metadata": {
    "slideshow": {
     "slide_type": "slide"
    },
    "tags": []
   },
   "source": [
    "# Classes"
   ]
  },
  {
   "cell_type": "code",
   "execution_count": 24,
   "metadata": {
    "slideshow": {
     "slide_type": "subslide"
    },
    "tags": []
   },
   "outputs": [
    {
     "name": "stdout",
     "output_type": "stream",
     "text": [
      "Alice is a 14 year old student whose favorite color is green.\n",
      "Bob is a 36 year old builder whose favorite color is blue.\n",
      "Charlie is a 11 year old student whose favorite color is red.\n",
      "Diane is a 28 year old programmer whose favorite color is yellow.\n"
     ]
    }
   ],
   "source": [
    "# Classes\n",
    "class Person:\n",
    "  def __init__(self, name, age, occupation, favorite_color):\n",
    "    self.name = name\n",
    "    self.age = age\n",
    "    self.occupation = occupation\n",
    "    self.favorite_color = favorite_color\n",
    "  def describe(self):\n",
    "    return f\"{self.name} is a {self.age} year old {self.occupation} whose favorite color is {self.favorite_color}.\"\n",
    "\n",
    "alice   = Person(\"Alice\", 14, \"student\", \"green\")\n",
    "robert  = Person(\"Bob\", 36, \"builder\", \"blue\")\n",
    "person3 = Person(\"Charlie\", 11, \"student\", \"red\")\n",
    "diane   = Person(\"Diane\", 28, \"programmer\", \"yellow\")\n",
    "\n",
    "for person in [alice, robert, person3, diane]:\n",
    "  print(person.describe())"
   ]
  },
  {
   "cell_type": "markdown",
   "metadata": {
    "slideshow": {
     "slide_type": "slide"
    },
    "tags": []
   },
   "source": [
    "# Helpful Patterns"
   ]
  },
  {
   "cell_type": "code",
   "execution_count": 25,
   "metadata": {
    "editable": false,
    "slideshow": {
     "slide_type": "subslide"
    },
    "tags": []
   },
   "outputs": [
    {
     "name": "stdout",
     "output_type": "stream",
     "text": [
      "Apples are Red\n",
      "Oranges are Orange\n",
      "Bananas are Yellow\n",
      "Pears are Green\n"
     ]
    }
   ],
   "source": [
    "# Iterating over 2 lists at once:\n",
    "fruits = [\"Apples\", \"Oranges\", \"Bananas\", \"Pears\"]\n",
    "colors = [\"Red\", \"Orange\", \"Yellow\", \"Green\"]\n",
    "for fruit, color in zip(fruits, colors):\n",
    "  print(f\"{fruit} are {color}\") # Note the f before the \" when using {}"
   ]
  },
  {
   "cell_type": "code",
   "execution_count": 26,
   "metadata": {
    "editable": false,
    "slideshow": {
     "slide_type": "subslide"
    },
    "tags": []
   },
   "outputs": [
    {
     "name": "stdout",
     "output_type": "stream",
     "text": [
      "[17, 18, 19, 20, 21, 22, 23]\n",
      "<map object at 0x000001CF255572B0>\n",
      "[62.6, 64.4, 66.2, 68.0, 69.8, 71.6, 73.4]\n"
     ]
    }
   ],
   "source": [
    "# Applying a function to a list\n",
    "def temp_c_to_f(temp_c):\n",
    "  return temp_c*9/5+32\n",
    "\n",
    "  \n",
    "temperatures_c = [17, 18, 19, 20, 21, 22, 23]\n",
    "temperatures_f = map(temp_c_to_f, temperatures_c)\n",
    "print(temperatures_c)\n",
    "# note that map returns a map object, this is because map is only applied when it's forced to, for example, when cast to a list.\n",
    "print(temperatures_f)\n",
    "print(list(temperatures_f))\n"
   ]
  },
  {
   "cell_type": "code",
   "execution_count": 27,
   "metadata": {
    "editable": false,
    "slideshow": {
     "slide_type": "subslide"
    },
    "tags": []
   },
   "outputs": [
    {
     "name": "stdout",
     "output_type": "stream",
     "text": [
      "['red', 'red', 'green', 'blue', 'yellow', 'orange', 'blue', 'green']\n",
      "{'yellow', 'orange', 'green', 'blue', 'red'}\n"
     ]
    }
   ],
   "source": [
    "# casting to set to remove duplicates:\n",
    "colors = [\"red\", \"red\", \"green\", \"blue\", \"yellow\", \"orange\", \"blue\", \"green\"]\n",
    "print(colors)\n",
    "colors = set(colors)\n",
    "print(colors)"
   ]
  },
  {
   "cell_type": "code",
   "execution_count": 28,
   "metadata": {
    "slideshow": {
     "slide_type": "subslide"
    },
    "tags": []
   },
   "outputs": [
    {
     "name": "stdout",
     "output_type": "stream",
     "text": [
      "Apples are red\n",
      "Oranges are orange\n",
      "Bananas are yellow\n",
      "Pears are green\n"
     ]
    }
   ],
   "source": [
    "# iterating over dicts:\n",
    "fruit_colors = {\"Apples\":\"red\", \"Oranges\":\"orange\", \"Bananas\":\"yellow\", \"Pears\":\"green\"}\n",
    "for fruit, color in fruit_colors.items():\n",
    "  print(f\"{fruit} are {color}\")"
   ]
  },
  {
   "cell_type": "code",
   "execution_count": 29,
   "metadata": {
    "slideshow": {
     "slide_type": "subslide"
    },
    "tags": []
   },
   "outputs": [
    {
     "name": "stdout",
     "output_type": "stream",
     "text": [
      "5\n"
     ]
    }
   ],
   "source": [
    "# Lambdas\n",
    "some_function_object = lambda x, y: x+y\n",
    "print(some_function_object(2,3))"
   ]
  },
  {
   "cell_type": "code",
   "execution_count": 30,
   "metadata": {
    "slideshow": {
     "slide_type": "subslide"
    },
    "tags": []
   },
   "outputs": [
    {
     "name": "stdout",
     "output_type": "stream",
     "text": [
      "17 degrees C is 62.6 degrees F\n",
      "18 degrees C is 64.4 degrees F\n",
      "19 degrees C is 66.2 degrees F\n",
      "20 degrees C is 68.0 degrees F\n",
      "21 degrees C is 69.8 degrees F\n",
      "22 degrees C is 71.6 degrees F\n",
      "23 degrees C is 73.4 degrees F\n"
     ]
    }
   ],
   "source": [
    "# Lambdas with map\n",
    "temperatures_c = [17, 18, 19, 20, 21, 22, 23]\n",
    "temperatures_f = map(lambda c: c*9/5+32, temperatures_c)\n",
    "for c,f in zip(temperatures_c, temperatures_f):\n",
    "    print(f\"{c} degrees C is {f} degrees F\")"
   ]
  },
  {
   "cell_type": "code",
   "execution_count": 31,
   "metadata": {
    "slideshow": {
     "slide_type": "subslide"
    },
    "tags": []
   },
   "outputs": [
    {
     "name": "stdout",
     "output_type": "stream",
     "text": [
      "3628800\n"
     ]
    }
   ],
   "source": [
    "# Type hints can be used by integrated development environments to provide useful information about a function\n",
    "def say_hello(name: str) -> None:\n",
    "  \"\"\"\n",
    "  You can also put docstrings in here to describe a function/class' purpose\n",
    "  \"\"\"\n",
    "  print(\"Hello\", name)\n",
    "\n",
    "\n",
    "def factorial(number: int) -> int:\n",
    "  \"\"\"\n",
    "  Takes an int and returns the factorial of that int\n",
    "  \n",
    "  Parameters:\n",
    "    number (int): A decimal integer  \n",
    "  \n",
    "  Returns:\n",
    "    acc (int): the factorial of number\n",
    "  \"\"\"\n",
    "  # Example, 10! = 10*9*8*7*6*5*4*3*2*1\n",
    "  acc = 1\n",
    "  for i in range(1, number + 1):\n",
    "    acc *= i\n",
    "  return acc\n",
    "\n",
    "\n",
    "print(factorial(10))"
   ]
  }
 ],
 "metadata": {
  "interpreter": {
   "hash": "0ec66bbe782f389edb8615b95e71913b48001538f92dc4d53a6c71a0eff16772"
  },
  "kernelspec": {
   "display_name": "Python 3 (ipykernel)",
   "language": "python",
   "name": "python3"
  },
  "language_info": {
   "codemirror_mode": {
    "name": "ipython",
    "version": 3
   },
   "file_extension": ".py",
   "mimetype": "text/x-python",
   "name": "python",
   "nbconvert_exporter": "python",
   "pygments_lexer": "ipython3",
   "version": "3.9.6"
  }
 },
 "nbformat": 4,
 "nbformat_minor": 4
}
