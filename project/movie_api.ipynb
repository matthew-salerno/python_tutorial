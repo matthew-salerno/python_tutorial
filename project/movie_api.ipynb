{
 "cells": [
  {
   "cell_type": "markdown",
   "id": "9456a078-4264-472c-a653-db5cb2aa07fc",
   "metadata": {
    "tags": []
   },
   "source": [
    "# API sample client for OMDB API: \n",
    "http://omdbapi.com/  "
   ]
  },
  {
   "cell_type": "markdown",
   "id": "3df14c61-bc25-4f5b-a774-72c410405c05",
   "metadata": {},
   "source": [
    "## Imports"
   ]
  },
  {
   "cell_type": "code",
   "execution_count": null,
   "id": "a33f449f-37f3-46bf-9ab4-a359d79635fc",
   "metadata": {
    "tags": []
   },
   "outputs": [],
   "source": [
    "# Import magic for jupyter lab, you don't need to worry about this\n",
    "from ipywidgets import interactive, fixed\n",
    "from functools import partial\n",
    "# Import Helpers in helpers.py\n",
    "import helpers as h\n",
    "h.apiKey = ''"
   ]
  },
  {
   "cell_type": "markdown",
   "id": "9666379a-fc8a-493c-ae10-9906b3365538",
   "metadata": {},
   "source": [
    "## Input"
   ]
  },
  {
   "cell_type": "code",
   "execution_count": null,
   "id": "14171d2d-5cf0-463d-a391-7dfc387ae2de",
   "metadata": {},
   "outputs": [],
   "source": [
    "# Inputs from the user. How should take in the inputs? \n",
    "title = input(\"Enter the name of the movie: \")\n",
    "year = '*'\n",
    "response = h.get_info_from_api(title, year)"
   ]
  },
  {
   "cell_type": "markdown",
   "id": "33c4207c-fff9-499b-b776-a871fa553638",
   "metadata": {
    "tags": []
   },
   "source": [
    "## Processing\n",
    "\n",
    "### What do we do with the Response?\n",
    "\n",
    "Criteria:  \n",
    "  1. critics rating  \n",
    "  2. genres  \n",
    "  3. year range  \n",
    "  4. MPAA rating  \n",
    "  - Anything else we can do?  \n"
   ]
  },
  {
   "cell_type": "code",
   "execution_count": null,
   "id": "be77dcf5-05e7-4a8e-82a4-131681d4f1a1",
   "metadata": {},
   "outputs": [],
   "source": [
    "# Critic Ratings\n",
    "critic_scores = response['Ratings']\n",
    "score = h.parse_critic_scores(critic_scores)\n",
    "print(\"Total Critic Score across all ratings is: \", score)"
   ]
  },
  {
   "cell_type": "code",
   "execution_count": null,
   "id": "fe5df6fb-7cd3-4235-9653-8c37bf5dd70a",
   "metadata": {},
   "outputs": [],
   "source": [
    "# Genres\n",
    "# TODO: Parse Genres\n"
   ]
  },
  {
   "cell_type": "code",
   "execution_count": null,
   "id": "92961f93-178e-4c94-a831-751ee8f5edfe",
   "metadata": {},
   "outputs": [],
   "source": [
    "# Year \n",
    "# TODO: Parse Year\n"
   ]
  },
  {
   "cell_type": "code",
   "execution_count": null,
   "id": "612b14e0-b048-4ebc-9e38-84647fd1299a",
   "metadata": {},
   "outputs": [],
   "source": [
    "# MPAA Rating\n",
    "# TODO: Parse MPAA ratings\n"
   ]
  },
  {
   "cell_type": "markdown",
   "id": "7decd40f-d49c-4232-ad94-35c8da19d1bd",
   "metadata": {},
   "source": [
    "## Output"
   ]
  },
  {
   "cell_type": "code",
   "execution_count": null,
   "id": "cd513f3e-cc7f-4673-bf53-d69b16e5d74f",
   "metadata": {},
   "outputs": [],
   "source": [
    "# TODO: Determine watch: yes or no?\n",
    "def should_watch(threshold: float, score: float) -> bool:\n",
    "    if score > threshold:\n",
    "      print(\"It's a great Movie!\")\n",
    "      return True \n",
    "    print(\"It's not very good...\")\n",
    "    return False"
   ]
  },
  {
   "cell_type": "code",
   "execution_count": null,
   "id": "ca646e02-60a3-43a2-ba9a-2d8e938310b3",
   "metadata": {},
   "outputs": [],
   "source": [
    "w=interactive(partial(should_watch, score=score), threshold=(0.0,100.0))\n",
    "display(w)"
   ]
  }
 ],
 "metadata": {
  "kernelspec": {
   "display_name": "Python 3 (ipykernel)",
   "language": "python",
   "name": "python3"
  },
  "language_info": {
   "codemirror_mode": {
    "name": "ipython",
    "version": 3
   },
   "file_extension": ".py",
   "mimetype": "text/x-python",
   "name": "python",
   "nbconvert_exporter": "python",
   "pygments_lexer": "ipython3",
   "version": "3.10.9"
  }
 },
 "nbformat": 4,
 "nbformat_minor": 5
}
