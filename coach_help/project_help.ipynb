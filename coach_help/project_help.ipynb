{
 "cells": [
  {
   "cell_type": "markdown",
   "id": "9dbb4a01-6f97-451c-8f55-fba68646924d",
   "metadata": {},
   "source": [
    "# Tips for movie API\n",
    "A lot can be  figured out in python by inspecting the content of the objects your working with. There are are several things you can try, in order of decreasing details. Let's work with the following example:"
   ]
  },
  {
   "cell_type": "code",
   "execution_count": 34,
   "id": "b6b10bbf-0771-40ec-bc53-f0a461aff9f2",
   "metadata": {},
   "outputs": [],
   "source": [
    "a_complicated_dict = {\n",
    "    \"String key\": \"string value\",\n",
    "    \"another dict\": {\"another key\": 1223},\n",
    "    42: 24\n",
    "}"
   ]
  },
  {
   "cell_type": "markdown",
   "id": "ed6cb6c4-d146-4899-87e9-05547d590f84",
   "metadata": {},
   "source": [
    "## Use the debug mode\n",
    "In the top right corner of the screen there is an icon shaped like a bug. You can use this to turn on debug mode, which let's you set breakpoints and explore the environment"
   ]
  },
  {
   "cell_type": "markdown",
   "id": "73f8fec8-9001-4486-908c-21c144a4e825",
   "metadata": {},
   "source": [
    "## dir\n",
    "`dir` let's you inspect object's methods, this is a very powerful tool when you don't know what you can do with an object"
   ]
  },
  {
   "cell_type": "code",
   "execution_count": 35,
   "id": "3fbaac7b-b1fe-4a08-9ecc-ad528d1af5d4",
   "metadata": {},
   "outputs": [
    {
     "data": {
      "text/plain": [
       "['__class__',\n",
       " '__class_getitem__',\n",
       " '__contains__',\n",
       " '__delattr__',\n",
       " '__delitem__',\n",
       " '__dir__',\n",
       " '__doc__',\n",
       " '__eq__',\n",
       " '__format__',\n",
       " '__ge__',\n",
       " '__getattribute__',\n",
       " '__getitem__',\n",
       " '__gt__',\n",
       " '__hash__',\n",
       " '__init__',\n",
       " '__init_subclass__',\n",
       " '__ior__',\n",
       " '__iter__',\n",
       " '__le__',\n",
       " '__len__',\n",
       " '__lt__',\n",
       " '__ne__',\n",
       " '__new__',\n",
       " '__or__',\n",
       " '__reduce__',\n",
       " '__reduce_ex__',\n",
       " '__repr__',\n",
       " '__reversed__',\n",
       " '__ror__',\n",
       " '__setattr__',\n",
       " '__setitem__',\n",
       " '__sizeof__',\n",
       " '__str__',\n",
       " '__subclasshook__',\n",
       " 'clear',\n",
       " 'copy',\n",
       " 'fromkeys',\n",
       " 'get',\n",
       " 'items',\n",
       " 'keys',\n",
       " 'pop',\n",
       " 'popitem',\n",
       " 'setdefault',\n",
       " 'update',\n",
       " 'values']"
      ]
     },
     "execution_count": 35,
     "metadata": {},
     "output_type": "execute_result"
    }
   ],
   "source": [
    "dir(a_complicated_dict)"
   ]
  },
  {
   "cell_type": "markdown",
   "id": "973085ec-39a0-46ce-a72d-7031baa96f18",
   "metadata": {},
   "source": [
    "## repr\n",
    "Short for representation, `repr` is probably the best way to quickly get information about an object's properties. Think of `repr` as a more detailed version of `str`"
   ]
  },
  {
   "cell_type": "code",
   "execution_count": 36,
   "id": "612fa83f-fc46-4601-ae9a-3ba21f8631dd",
   "metadata": {},
   "outputs": [
    {
     "data": {
      "text/plain": [
       "\"{'String key': 'string value', 'another dict': {'another key': 1223}, 42: 24}\""
      ]
     },
     "execution_count": 36,
     "metadata": {},
     "output_type": "execute_result"
    }
   ],
   "source": [
    "repr(a_complicated_dict)"
   ]
  },
  {
   "cell_type": "markdown",
   "id": "106585b9-24ee-459b-9a13-a743c41b29ab",
   "metadata": {},
   "source": [
    "## str\n",
    "`str` converts an object to a string, similar to `repr`, but moreso intended for objects that have a natural reason to be converted to strings. For the case of dictionary, it is the same"
   ]
  },
  {
   "cell_type": "code",
   "execution_count": 37,
   "id": "7715a65b-8f98-42d7-8fd2-10d477e165f9",
   "metadata": {},
   "outputs": [
    {
     "data": {
      "text/plain": [
       "\"{'String key': 'string value', 'another dict': {'another key': 1223}, 42: 24}\""
      ]
     },
     "execution_count": 37,
     "metadata": {},
     "output_type": "execute_result"
    }
   ],
   "source": [
    "str(a_complicated_dict)"
   ]
  },
  {
   "cell_type": "markdown",
   "id": "3d0216ee-06b9-4a7b-b4c3-05c0055f4b72",
   "metadata": {},
   "source": [
    "However, notice how `str` and `repr` are sometimes different:"
   ]
  },
  {
   "cell_type": "code",
   "execution_count": 38,
   "id": "99a67799-862b-4655-af98-12efb0289316",
   "metadata": {},
   "outputs": [
    {
     "name": "stdout",
     "output_type": "stream",
     "text": [
      "2023-02-28 17:50:20.242132\n",
      "datetime.datetime(2023, 2, 28, 17, 50, 20, 242132)\n"
     ]
    }
   ],
   "source": [
    "import datetime\n",
    "the_time = datetime.datetime.today()\n",
    "print(str(the_time))\n",
    "print(repr(the_time))"
   ]
  },
  {
   "cell_type": "markdown",
   "id": "30f0cf69-a487-4d73-be23-2369194fe334",
   "metadata": {},
   "source": [
    "## print\n",
    "print displays info to the output. It is needed to display `str` and `repr`, except when they are the last line in a cell\n",
    "Internally print uses `str`"
   ]
  },
  {
   "cell_type": "code",
   "execution_count": 39,
   "id": "d9e25d62-1564-475f-adca-a488ec9d2535",
   "metadata": {},
   "outputs": [
    {
     "name": "stdout",
     "output_type": "stream",
     "text": [
      "2023-02-28 17:50:20.505661\n"
     ]
    }
   ],
   "source": [
    "import datetime\n",
    "the_time = datetime.datetime.today()\n",
    "print(the_time)"
   ]
  },
  {
   "cell_type": "code",
   "execution_count": null,
   "id": "ea21bae1-8174-4b17-abdf-4d6f60fd8bed",
   "metadata": {},
   "outputs": [],
   "source": []
  }
 ],
 "metadata": {
  "kernelspec": {
   "display_name": "Python 3 (ipykernel)",
   "language": "python",
   "name": "python3"
  },
  "language_info": {
   "codemirror_mode": {
    "name": "ipython",
    "version": 3
   },
   "file_extension": ".py",
   "mimetype": "text/x-python",
   "name": "python",
   "nbconvert_exporter": "python",
   "pygments_lexer": "ipython3",
   "version": "3.10.9"
  }
 },
 "nbformat": 4,
 "nbformat_minor": 5
}
