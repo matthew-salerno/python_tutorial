{
 "cells": [
  {
   "cell_type": "markdown",
   "id": "b672b98e-90fa-4023-a438-2d73775dbb7c",
   "metadata": {
    "slideshow": {
     "slide_type": "slide"
    },
    "tags": []
   },
   "source": [
    "# Python Lab Introduction"
   ]
  },
  {
   "cell_type": "markdown",
   "id": "06e161d1-230f-4ab8-b0b0-a36e4403ad36",
   "metadata": {
    "slideshow": {
     "slide_type": "slide"
    },
    "tags": []
   },
   "source": [
    "# Python Overview"
   ]
  },
  {
   "cell_type": "markdown",
   "id": "2f763215-7fe4-4b10-80cf-120212e387a2",
   "metadata": {
    "slideshow": {
     "slide_type": "subslide"
    },
    "tags": []
   },
   "source": [
    "## What Is Python?\n",
    "- General purpose, open source, programming language\n",
    "- Originally designed by Guido Van Rossum (v0.9.0 in 1991)\n",
    "- Easy to learn\n",
    "- Ideal for scripting, experimentation, data analysis"
   ]
  },
  {
   "cell_type": "markdown",
   "id": "8ee51d09-c361-4a06-b9e7-3200785cc596",
   "metadata": {
    "slideshow": {
     "slide_type": "subslide"
    },
    "tags": []
   },
   "source": [
    "## Why People Love Python"
   ]
  },
  {
   "cell_type": "markdown",
   "id": "b368bda6-b8f3-4757-96fb-4827485b6472",
   "metadata": {
    "slideshow": {
     "slide_type": "subslide"
    },
    "tags": []
   },
   "source": [
    "![A comic about how python is easy to use and has many libraries, by XKCD](https://imgs.xkcd.com/comics/python.png)"
   ]
  },
  {
   "cell_type": "markdown",
   "id": "7c9f3f0c-3044-4050-a1e2-0ffff9b36c77",
   "metadata": {
    "slideshow": {
     "slide_type": "subslide"
    },
    "tags": []
   },
   "source": [
    "Reasons Why:\n",
    "- Python is Multi-Paradigm\n",
    "- Python is easy to learn, and simple to use\n",
    "- Python has a large community and many libraries\n",
    "- Python is compatible across many Operating Systems and Architectures\n",
    "- Python programs don’t take long to create, and are easy to iterate on"
   ]
  },
  {
   "cell_type": "markdown",
   "id": "286eefc0-a414-4966-91a0-99901ccd56e4",
   "metadata": {
    "slideshow": {
     "slide_type": "skip"
    },
    "tags": []
   },
   "source": [
    "## Python Is Interpreted"
   ]
  },
  {
   "cell_type": "markdown",
   "id": "fb7db21b-e107-4ab9-b78a-566ba9d19642",
   "metadata": {
    "slideshow": {
     "slide_type": "skip"
    },
    "tags": []
   },
   "source": [
    "### Interpreted Languages:\n",
    "- A program called an interpreter runs every time the python program is run\n",
    "- Easy to make changes to the source file\n",
    "- High resource overhead\n",
    "- Source file can be used on multiple different computer architectures\n",
    "- Interpreter must exist on every machine to run the python code"
   ]
  },
  {
   "cell_type": "markdown",
   "id": "a246b9ac-ffdb-4597-a86b-a5379c01aa43",
   "metadata": {
    "slideshow": {
     "slide_type": "skip"
    },
    "tags": []
   },
   "source": [
    "### Compiled Languages:\n",
    "- A program called a compiler runs once and converts the C code to machine code that is run directly on the processor*\n",
    "- Must rebuild after every change\n",
    "- Low resource overhead\n",
    "- Source must be compiled for each architecture\n",
    "- A compiled C program does not need a separate program to run"
   ]
  },
  {
   "cell_type": "markdown",
   "id": "e670cc19-e44c-4d0e-9dc6-31a69057513e",
   "metadata": {
    "slideshow": {
     "slide_type": "skip"
    },
    "tags": []
   },
   "source": [
    "\\* In reality, the build process is more complicated. It involves additional programs such as a preprocessor, assembler, and linker.In reality, the build process is more complicated. It involves additional programs such as a preprocessor, assembler, and linker."
   ]
  },
  {
   "cell_type": "markdown",
   "id": "f32d1ceb-03c8-4db0-8e1f-8da365d1f680",
   "metadata": {
    "slideshow": {
     "slide_type": "skip"
    },
    "tags": []
   },
   "source": [
    "# Installing Python\n",
    "Python should come preinstalled on MacOS and most Linux distributions\n",
    "On windows, can be installed from [python.org](https://www.python.org/downloads/)\n",
    "Alternatively, Anaconda is a popular python suite which comes with many data science and package management tools baked. Anaconda can be installed from [anaconda.com](https://www.anaconda.com/Python)."
   ]
  },
  {
   "cell_type": "markdown",
   "id": "a1332b07-5795-4658-b347-2ed9f1fdaeb5",
   "metadata": {
    "slideshow": {
     "slide_type": "skip"
    },
    "tags": []
   },
   "source": [
    "# Using Python"
   ]
  },
  {
   "cell_type": "markdown",
   "id": "9a24dd5c-9cca-4c98-86b3-b4819b824f93",
   "metadata": {
    "slideshow": {
     "slide_type": "skip"
    },
    "tags": []
   },
   "source": [
    "## Getting Started\n",
    "Python can be run with a script (.py file) or in a REPL (Read Evaluate Print Loop) environment. To enter the REPL type the following into your commandline:\n",
    "```\n",
    "python\n",
    "```\n",
    "To run a script simply specify a python file to run as an argument (e.g. `python my_script.py`)"
   ]
  },
  {
   "cell_type": "markdown",
   "id": "2b2f6165-4bc4-4631-ad21-883e4cc8df66",
   "metadata": {
    "slideshow": {
     "slide_type": "skip"
    },
    "tags": []
   },
   "source": [
    "### Try Entering...\n",
    "```python\n",
    ">>> print(\"Hello world!\")\n",
    "```"
   ]
  },
  {
   "cell_type": "markdown",
   "id": "5d36b2a1-7d4c-42bb-9a89-f84453dd3bc6",
   "metadata": {
    "slideshow": {
     "slide_type": "skip"
    },
    "tags": []
   },
   "source": [
    "### You sould get\n",
    "```\n",
    "Hello world!\n",
    "```\n",
    "printed back in the console"
   ]
  },
  {
   "cell_type": "markdown",
   "id": "4ba860ef-2661-48d4-bddc-0c387e236fcb",
   "metadata": {
    "slideshow": {
     "slide_type": "slide"
    },
    "tags": []
   },
   "source": [
    "# Project Jupyter"
   ]
  },
  {
   "cell_type": "markdown",
   "id": "f74226d2-dbc1-4a1d-8e83-7b242903f512",
   "metadata": {
    "slideshow": {
     "slide_type": "subslide"
    },
    "tags": []
   },
   "source": [
    "## What is Jupyter?\n",
    "- Multiple programs under the Project Jupyter umbrella\n",
    "- Most known are Notebook and Lab\n",
    "- Provides interactive and visual scripting tools in multiple languages, including python\n",
    "- Used heavily in scientific research"
   ]
  },
  {
   "cell_type": "markdown",
   "id": "f976cf38-c48b-4d1d-aedf-5d4f0cd4aa28",
   "metadata": {
    "slideshow": {
     "slide_type": "subslide"
    },
    "tags": []
   },
   "source": [
    "## Why Use Jupyter?\n",
    "- Can break programs down into smaller parts and run them in any order\n",
    "- Provides excellent visual feedback and integration with graphing tools like matplotlib\n",
    "- Allows you to mix markdown, graphs, and code into one file.\n",
    "- This presentation was made in a Jupyter Notebook"
   ]
  },
  {
   "cell_type": "markdown",
   "id": "f5ef908d-d8e2-490a-b0ec-fe1b08ee47bf",
   "metadata": {
    "slideshow": {
     "slide_type": "slide"
    },
    "tags": []
   },
   "source": [
    "# Installing Jupyter Lab\n",
    "Jupyter Lab can be installed locally or hosted remotely. For our excersice we will be using a remote version hosted by [MyBinder](MyBinder.org)."
   ]
  },
  {
   "cell_type": "markdown",
   "id": "8fbb5131-11c9-4bc3-bb01-1b8c54bdd323",
   "metadata": {
    "slideshow": {
     "slide_type": "skip"
    },
    "tags": []
   },
   "source": [
    "## Local Machine\n",
    "```pip install jupyterlab```"
   ]
  },
  {
   "cell_type": "markdown",
   "id": "cf5aa31b-7e86-43df-b017-8675b5d8e0bb",
   "metadata": {
    "slideshow": {
     "slide_type": "notes"
    },
    "tags": []
   },
   "source": [
    "Open up your commandline (mac linux or windows) and type in `pip install jupyterlab`\n",
    "to install the jupyter lab environment, or `pip install notebook` for the old jupyter notebook envirnmont. After installation, To launch the local server type `jupyter lab` or `jupyter notebook`, the server will start and should open your browser to the correct location when ready."
   ]
  },
  {
   "cell_type": "markdown",
   "id": "a524b0b3-9e32-45e2-961b-20269dd145cb",
   "metadata": {
    "slideshow": {
     "slide_type": "skip"
    },
    "tags": []
   },
   "source": [
    "## Reproducing This Environment Later\n",
    "You can start a new server by going [here](todo)"
   ]
  },
  {
   "cell_type": "markdown",
   "id": "0051601f-bdc5-46a9-8204-7495cae45611",
   "metadata": {
    "slideshow": {
     "slide_type": "notes"
    },
    "tags": []
   },
   "source": [
    "This environment is contained in a github repository which can be hosted on [MyBinder](MyBinder.org).\n",
    "Just select the repository (which is [here](todo)). Remember that MyBinder is courteously hosted for free, please be respectful of resource usage."
   ]
  },
  {
   "cell_type": "markdown",
   "id": "53aef4dd-3bf9-4d24-ac7e-1b4500949a91",
   "metadata": {
    "slideshow": {
     "slide_type": "skip"
    },
    "tags": []
   },
   "source": [
    "## For This Session\n",
    "You will be a given a link to open for your particular group."
   ]
  },
  {
   "cell_type": "markdown",
   "id": "e26d1c7e-5746-42e2-a1c7-65a463e1545a",
   "metadata": {
    "slideshow": {
     "slide_type": "slide"
    },
    "tags": []
   },
   "source": [
    "# Using Jupyter Lab"
   ]
  },
  {
   "cell_type": "markdown",
   "id": "02aa4af0-1ab3-4a93-80c0-3cacda0ffa1c",
   "metadata": {
    "slideshow": {
     "slide_type": "skip"
    },
    "tags": []
   },
   "source": [
    "## File Explorer\n",
    "![A picture of the Jupyter Lab file explorer](https://github.com/matthew-salerno/python_tutorial/raw/main/presentation/file_explorer.png)"
   ]
  },
  {
   "cell_type": "markdown",
   "id": "a786c02e-6cf5-46e0-8e20-61c5f4b97102",
   "metadata": {
    "slideshow": {
     "slide_type": "notes"
    },
    "tags": []
   },
   "source": [
    "The file explorer shows the file system where Jupyter Lab was run."
   ]
  },
  {
   "cell_type": "markdown",
   "id": "9a822fd0-9f86-4273-b1bf-c799930138b6",
   "metadata": {
    "slideshow": {
     "slide_type": "skip"
    },
    "tags": []
   },
   "source": [
    "## Notebooks\n",
    "![A picture of the Jupyter Lab file explorer with a .ipynb file highlighted](https://github.com/matthew-salerno/python_tutorial/raw/main/presentation/file_explorer_ipynb.png)"
   ]
  },
  {
   "cell_type": "markdown",
   "id": "8a6599d4-6cfc-4bc6-8f9a-4b9148fb17ae",
   "metadata": {
    "slideshow": {
     "slide_type": "notes"
    },
    "tags": []
   },
   "source": [
    "Notebooks are comprised of cells, which can be run at different times.\n",
    "A cell can be code (python in our case), raw text, or markdown formatted text."
   ]
  },
  {
   "cell_type": "markdown",
   "id": "52983a38-1977-43e0-b1d8-626af3ee7d9c",
   "metadata": {
    "slideshow": {
     "slide_type": "skip"
    },
    "tags": []
   },
   "source": [
    "![A picture of a Jupyter Notebook File in the Jupyter Lab IDE](https://github.com/matthew-salerno/python_tutorial/raw/main/presentation/cells.png)"
   ]
  },
  {
   "cell_type": "markdown",
   "id": "a9ee2af5-d19a-4a01-9775-5a1145440ef1",
   "metadata": {
    "slideshow": {
     "slide_type": "skip"
    },
    "tags": []
   },
   "source": [
    "Starting at the top, the tabs indicate which file is open. The dropdown that says\n",
    "\"Markdown\" lets you select the cell type. The \"Hello World\" is an example of a markdown cell (as are these notes).\n",
    "Bellow that is a code cell, this is a python notebook, so the code is python. The number in the brackets indicates\n",
    "the run order. An empty space means the cell hasn't been run. An asterisk (\\*) means the cell is currently running.\n",
    "When a cell is run the number will be updated to the most recent run counter, which will always increase by 1 when\n",
    "*any* cell is run."
   ]
  },
  {
   "cell_type": "markdown",
   "id": "80310f02-88e3-4907-9941-60c2a134fb69",
   "metadata": {
    "slideshow": {
     "slide_type": "skip"
    },
    "tags": []
   },
   "source": [
    "## Editing Cells  \n",
    "- Double click to edit a markdown cell  \n",
    "- ctrl-enter to run the cell  \n",
    "- shift-enter to run the cell and go to the next one  \n",
    "- In the top right of the cell are (ordered left to right) duplicate, move up and down, add above and below, and delete buttons.  \n",
    "- The refresh button restarts the kernel (clear all variables)  \n",
    "- The play button is the same as shift-enter  \n",
    "- The stop button stops the kernel (clears all variables)  \n",
    "- The fast forward button restarts the kernel and runs all cells in order  "
   ]
  },
  {
   "cell_type": "markdown",
   "id": "74eb390f-68cd-4f20-9de1-999cf432ddfc",
   "metadata": {
    "slideshow": {
     "slide_type": "slide"
    },
    "tags": []
   },
   "source": [
    "# That's all for now, let's jump in!"
   ]
  },
  {
   "cell_type": "markdown",
   "id": "52fe10d5-b8ec-46af-b400-2bf48dd58325",
   "metadata": {
    "slideshow": {
     "slide_type": "notes"
    },
    "tags": []
   },
   "source": [
    "You can go to the examples folder for examples, or jump right into the project in the project folder."
   ]
  }
 ],
 "metadata": {
  "kernelspec": {
   "display_name": "Python 3 (ipykernel)",
   "language": "python",
   "name": "python3"
  },
  "language_info": {
   "codemirror_mode": {
    "name": "ipython",
    "version": 3
   },
   "file_extension": ".py",
   "mimetype": "text/x-python",
   "name": "python",
   "nbconvert_exporter": "python",
   "pygments_lexer": "ipython3",
   "version": "3.10.9"
  }
 },
 "nbformat": 4,
 "nbformat_minor": 5
}
